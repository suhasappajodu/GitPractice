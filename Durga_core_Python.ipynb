{
  "nbformat": 4,
  "nbformat_minor": 0,
  "metadata": {
    "colab": {
      "name": "Durga_core_Python.ipynb",
      "version": "0.3.2",
      "provenance": [],
      "collapsed_sections": [],
      "include_colab_link": true
    },
    "kernelspec": {
      "name": "python3",
      "display_name": "Python 3"
    }
  },
  "cells": [
    {
      "cell_type": "markdown",
      "metadata": {
        "id": "view-in-github",
        "colab_type": "text"
      },
      "source": [
        "<a href=\"https://colab.research.google.com/github/suhasappajodu/GitPractice/blob/master/Durga_core_Python.ipynb\" target=\"_parent\"><img src=\"https://colab.research.google.com/assets/colab-badge.svg\" alt=\"Open In Colab\"/></a>"
      ]
    },
    {
      "cell_type": "markdown",
      "metadata": {
        "id": "AA8ZSfQ5uulX",
        "colab_type": "text"
      },
      "source": [
        "Python is general purpose High level programming language developed by Guido Van Rossam whose name was selected from the show \"The complete monty python circus\".\n",
        "\n",
        "Python is ALLROUNDER it supports\n",
        "FUnctional programming featurs from C\n",
        "OO from C++\n",
        "Scripting from Perl ans shell script\n",
        "\n",
        "We can use python in Desktop application ,Web application, Database appliation, Network Application,Games , ML and AI\n",
        "\n",
        "\n",
        "Features:\n",
        "\n",
        "Simple and easy to learn\n",
        "Freeware and Open source\n",
        "HIgh level\n",
        "platform independent\n",
        "portability\n",
        "Dynamically Typed\n",
        "Both procedural and OO\n",
        "Interpreted\n",
        "Extensibel\n",
        "Embedded\n",
        "Extensive library\n",
        "\n",
        "Limitations:\n",
        "Slow\n",
        "Not for mobile application\n",
        "\n",
        "Flavours:\n",
        "C+python\n",
        "J(ava)+Python\n",
        "PYPy (uses JIT compiler in ordxer to increase the speed of the python exection)\n",
        "Rubypython\n",
        "Anaconda\n",
        "\n",
        "\n",
        "\n",
        "Identifiers:\n",
        "alphabet,(0 to 9 ),(_).\n",
        "Identifier shouls not start with Number\n",
        "\n",
        "\n"
      ]
    },
    {
      "cell_type": "code",
      "metadata": {
        "id": "w2IPjce6xEzN",
        "colab_type": "code",
        "outputId": "307ee12c-2796-444e-ec28-f484d4393039",
        "colab": {
          "base_uri": "https://localhost:8080/",
          "height": 578
        }
      },
      "source": [
        "# 33 Reserved Words\n",
        "\n",
        "import keyword\n",
        "keyword.kwlist"
      ],
      "execution_count": 0,
      "outputs": [
        {
          "output_type": "execute_result",
          "data": {
            "text/plain": [
              "['False',\n",
              " 'None',\n",
              " 'True',\n",
              " 'and',\n",
              " 'as',\n",
              " 'assert',\n",
              " 'break',\n",
              " 'class',\n",
              " 'continue',\n",
              " 'def',\n",
              " 'del',\n",
              " 'elif',\n",
              " 'else',\n",
              " 'except',\n",
              " 'finally',\n",
              " 'for',\n",
              " 'from',\n",
              " 'global',\n",
              " 'if',\n",
              " 'import',\n",
              " 'in',\n",
              " 'is',\n",
              " 'lambda',\n",
              " 'nonlocal',\n",
              " 'not',\n",
              " 'or',\n",
              " 'pass',\n",
              " 'raise',\n",
              " 'return',\n",
              " 'try',\n",
              " 'while',\n",
              " 'with',\n",
              " 'yield']"
            ]
          },
          "metadata": {
            "tags": []
          },
          "execution_count": 1
        }
      ]
    },
    {
      "cell_type": "code",
      "metadata": {
        "id": "HktVOBO3xqzb",
        "colab_type": "code",
        "outputId": "381eb767-296e-48dc-d239-c14c89a3fd81",
        "colab": {
          "base_uri": "https://localhost:8080/",
          "height": 833
        }
      },
      "source": [
        "#Python contain 14 inbuilt data type\n",
        "#int,Float,Complex,Bool,Str,Bytes,Bytearray,Range,List,Tuple,Set,FrozenSet,Dict,none\n",
        "#type(),id(),print()\n",
        "\n",
        "\n",
        "#Integer Data type --> Binary (0 and 1),Literal should be prefixed with 0b or 0B\n",
        "#                  --> Octal  (0 to  7),Literal should be prefixed with 0o or 0O\n",
        "#                  --> Decimal(0 to 10),Default number system \n",
        "#                  --> Hexa decimal(0 to 9 and  a - f) should be prefixed with 0x and 0X\n",
        "# bin(),oct(),hex()\n",
        "\n",
        "a = 10\n",
        "print (type(a))\n",
        "print (a)\n",
        "\n",
        "b = bin (a)\n",
        "print (type(b))\n",
        "print (b)\n",
        "\n",
        "c = oct(a)\n",
        "print (type(c))\n",
        "print (c)\n",
        "\n",
        "d = hex(a)\n",
        "print (type(d))\n",
        "print (d)\n",
        "\n",
        "#Default ouput is always decimal\n",
        "print(\"Default values of prints\")\n",
        "a= 10\n",
        "print (a)\n",
        "a= 0b10\n",
        "print (a)\n",
        "a= 0o07\n",
        "print (a)\n",
        "a= 0x09\n",
        "print(a)\n",
        "\n",
        "#Float Data \n",
        "# Float values can be only represented in Decimal\n",
        "a = 1.234\n",
        "print (a)\n",
        "a = 1.2e3\n",
        "print (a)\n",
        "\n",
        "#complex Data Type\n",
        "#In the real part we can use any binary,octal,decimal and hexadecimal\n",
        "#Imaginary part should contain only decimal\n",
        "a = 3+5j\n",
        "print (a)\n",
        "\n",
        "#bool only True (1) and False (0)\n",
        "a= True\n",
        "b = False\n",
        "\n",
        "print (a+b)\n",
        "print (a)\n",
        "print (b)\n",
        "\n",
        "\n",
        "#string\n",
        "\n",
        "s = \"hello\"\n",
        "s1 = 'hello2'\n",
        "s2 = '''hello3'''\n",
        "s4 = '''\"hello\"'''\n",
        "s5 = \"'hello5'\"\n",
        "\n",
        "print (s)\n",
        "print (s1)\n",
        "print (s2)\n",
        "print (s4)\n",
        "print (s5)\n",
        "\n",
        "#slicing string\n",
        "print(s[0])\n",
        "\n",
        "print (len(s))\n",
        "\n",
        "print (s[-1])\n",
        "print (s[-4:-1])\n",
        "#print (s[40]) # will print string index out of rrange error message\n",
        "print (s*3)\n",
        "print (s[1:40])\n",
        "\n",
        "#If the value is greater than 255 then error will come for byte and byte array\n",
        "#byte data type is immutable and can take form 0 to 255\n",
        "l = [1,2,3,4,5]\n",
        "b = bytes(list)\n",
        "print (type(b))\n",
        "\n",
        "#Byte array is mutable where bytes is immutable\n",
        "ba = bytearray(list)\n",
        "print (type(ba))\n",
        "\n",
        "#range --> Immutable\n",
        "\n",
        "r = range(10)\n",
        "r1 = range(0,10)\n",
        "r2 = range(0,10,2)\n",
        "for each in r2:\n",
        "  print (each)\n",
        "  \n",
        "# list --> Mutable\n",
        "\n",
        "l= [1,2,3,4,5,6,7,9]\n",
        "print (l)\n",
        "l[2] = 10\n",
        "print (l)\n",
        "\n",
        "# tuple ---> immutable\n",
        "\n",
        "t = (1,2,3,4)\n",
        "#t[0] = 4 this will give error\n",
        "\n",
        "# tuple <--> list\n",
        "\n",
        "t = (1,2,3,4)\n",
        "li = tuple([each for each in t])\n",
        "\n",
        "print (li)\n",
        "\n",
        "#set --> mutable set can not be called by index because it is not like list\n",
        "\n",
        "s = {1,2,3,4}\n",
        "\n",
        "print (s)\n",
        "\n",
        "list = [1,2,3,4]\n",
        "s = set(list)\n",
        "print (s)\n",
        "\n",
        "tupl = (1,2,3,4)\n",
        "s = set(tupl)\n",
        "print(s)\n",
        "\n",
        "\n",
        "#frozen set\n",
        "\n",
        "s = [(1,2,3),2,3,4,]\n",
        "fs = frozenset(s)\n",
        "\n",
        "print (fs)\n",
        "\n",
        "#dict\n",
        "#A dictionary keys should be immutable datatypes like basic data types and tuple,range,frozenset,\n",
        "#if you have duplicate keys i\n",
        "l1 = [1,2,3,4,]\n",
        "t1 =(1,2,3,4)\n",
        "dic = {101:l1,102:t1,103:'string'}\n",
        "fs = frozenset(l1)\n",
        "dic1 = {range(1,10):100,(1,2,3,4,5):200,(1,2,3,4):36,(1,2,3,4):[(1,2,3),(2,3,4,),[1,]]}\n",
        "\n",
        "#print(dic1[(1,2,3,4)])\n",
        "#print(dic1[range(1,10)])\n",
        "print (dic1[(1,2,3,4)])\n",
        "print (dic1.keys())\n",
        "print(type((dic1.values())))\n",
        "print(dic[103])\n",
        "\n",
        "\n",
        "\n"
      ],
      "execution_count": 0,
      "outputs": [
        {
          "output_type": "stream",
          "text": [
            "<class 'int'>\n",
            "10\n",
            "<class 'str'>\n",
            "0b1010\n",
            "<class 'str'>\n",
            "0o12\n",
            "<class 'str'>\n",
            "0xa\n",
            "Default values of prints\n",
            "10\n",
            "2\n",
            "7\n",
            "9\n",
            "1.234\n",
            "1200.0\n",
            "(3+5j)\n",
            "1\n",
            "True\n",
            "False\n",
            "hello\n",
            "hello2\n",
            "hello3\n",
            "\"hello\"\n",
            "'hello5'\n",
            "h\n",
            "5\n",
            "o\n",
            "ell\n",
            "hellohellohello\n",
            "ello\n",
            "<class 'bytes'>\n",
            "<class 'bytearray'>\n",
            "0\n",
            "2\n",
            "4\n",
            "6\n",
            "8\n",
            "[1, 2, 3, 4, 5, 6, 7, 9]\n",
            "[1, 2, 10, 4, 5, 6, 7, 9]\n",
            "(1, 2, 3, 4)\n",
            "{1, 2, 3, 4}\n",
            "{1, 2, 3, 4}\n",
            "{1, 2, 3, 4}\n",
            "frozenset({2, 3, 4, (1, 2, 3)})\n",
            "[(1, 2, 3), (2, 3, 4), [1]]\n",
            "dict_keys([range(1, 10), (1, 2, 3, 4, 5), (1, 2, 3, 4)])\n",
            "<class 'dict_values'>\n",
            "string\n"
          ],
          "name": "stdout"
        }
      ]
    },
    {
      "cell_type": "code",
      "metadata": {
        "id": "xRMTwvPV4k8u",
        "colab_type": "code",
        "outputId": "03dcd212-9fe2-4121-92bc-7d59007ca5b4",
        "colab": {
          "base_uri": "https://localhost:8080/",
          "height": 136
        }
      },
      "source": [
        " #operators\n",
        " \n",
        "a = 20\n",
        "b = 10\n",
        "\n",
        "print (a+b)\n",
        "print (a-b)\n",
        "print (a%b)#peR(emainder)centage\n",
        "print (a/b)# return floating value\n",
        "print (a*b)\n",
        "print (a**b)\n",
        "print (a//b)# if both arguments are int thaen the output is int or else float"
      ],
      "execution_count": 0,
      "outputs": [
        {
          "output_type": "stream",
          "text": [
            "30\n",
            "10\n",
            "0\n",
            "2.0\n",
            "200\n",
            "10240000000000\n",
            "2\n"
          ],
          "name": "stdout"
        }
      ]
    },
    {
      "cell_type": "code",
      "metadata": {
        "id": "uSW3Sjs00E54",
        "colab_type": "code",
        "outputId": "0f8b5718-0e4c-424c-fde2-649b93c2bc6a",
        "colab": {
          "base_uri": "https://localhost:8080/",
          "height": 170
        }
      },
      "source": [
        "#Relational operators\n",
        "#>,>=,<,<=\n",
        "\n",
        "a = 20 \n",
        "b = 30\n",
        "\n",
        "print (a>b)\n",
        "print (a>=b)\n",
        "print (a<b)\n",
        "print (a<=b)\n",
        "print (a==b)\n",
        "print (a!=b)\n",
        "\n",
        "#shift operators << left shift >> right operator\n",
        "#Shifts the bit position of the value and generated decomal\n",
        "print (~0)\n",
        "print (11<<2)\n",
        "print (10>>2)"
      ],
      "execution_count": 0,
      "outputs": [
        {
          "output_type": "stream",
          "text": [
            "False\n",
            "False\n",
            "True\n",
            "True\n",
            "False\n",
            "True\n",
            "-1\n",
            "44\n",
            "2\n"
          ],
          "name": "stdout"
        }
      ]
    },
    {
      "cell_type": "code",
      "metadata": {
        "id": "N2c5_S0UWdEE",
        "colab_type": "code",
        "outputId": "dfd3569a-7591-4186-983e-2c0b301276c9",
        "colab": {
          "base_uri": "https://localhost:8080/",
          "height": 197
        }
      },
      "source": [
        "from sys import argv\n",
        "\n",
        "print (argv[100])"
      ],
      "execution_count": 0,
      "outputs": [
        {
          "output_type": "error",
          "ename": "IndexError",
          "evalue": "ignored",
          "traceback": [
            "\u001b[0;31m---------------------------------------------------------------------------\u001b[0m",
            "\u001b[0;31mIndexError\u001b[0m                                Traceback (most recent call last)",
            "\u001b[0;32m<ipython-input-26-0db7b621155e>\u001b[0m in \u001b[0;36m<module>\u001b[0;34m()\u001b[0m\n\u001b[1;32m      1\u001b[0m \u001b[0;32mfrom\u001b[0m \u001b[0msys\u001b[0m \u001b[0;32mimport\u001b[0m \u001b[0margv\u001b[0m\u001b[0;34m\u001b[0m\u001b[0;34m\u001b[0m\u001b[0m\n\u001b[1;32m      2\u001b[0m \u001b[0;34m\u001b[0m\u001b[0m\n\u001b[0;32m----> 3\u001b[0;31m \u001b[0mprint\u001b[0m \u001b[0;34m(\u001b[0m\u001b[0margv\u001b[0m\u001b[0;34m[\u001b[0m\u001b[0;36m100\u001b[0m\u001b[0;34m]\u001b[0m\u001b[0;34m)\u001b[0m\u001b[0;34m\u001b[0m\u001b[0;34m\u001b[0m\u001b[0m\n\u001b[0m",
            "\u001b[0;31mIndexError\u001b[0m: list index out of range"
          ]
        }
      ]
    },
    {
      "cell_type": "code",
      "metadata": {
        "id": "GT1gFgKTulqk",
        "colab_type": "code",
        "outputId": "84db0530-8de4-445c-cdbf-0cdaf7058687",
        "colab": {
          "base_uri": "https://localhost:8080/",
          "height": 85
        }
      },
      "source": [
        "a,b,c = 1,2,3\n",
        "\n",
        "print (a,b,c,sep=\"suhas\")\n",
        "print (a,end=' ')\n",
        "print (b,end=' ')\n",
        "print (c,end=' ')\n",
        "print (\"Hello numbers \",a,b,c)\n",
        "print (\"hello numbers %d,%d,%d\"%(a,b,c))\n",
        "print (\"hello numbers {0},{1},{2}\".format(a,b,c))"
      ],
      "execution_count": 0,
      "outputs": [
        {
          "output_type": "stream",
          "text": [
            "1suhas2suhas3\n",
            "1 2 3 Hello numbers  1 2 3\n",
            "hello numbers 1,2,3\n",
            "hello numbers 1,2,3\n"
          ],
          "name": "stdout"
        }
      ]
    },
    {
      "cell_type": "code",
      "metadata": {
        "id": "Nj7EQ_06vbo8",
        "colab_type": "code",
        "outputId": "4a645567-06e4-4642-f4be-3912ad669947",
        "colab": {
          "base_uri": "https://localhost:8080/",
          "height": 34
        }
      },
      "source": [
        "l =[1,2,3,]\n",
        "\n",
        "\n",
        "x = [each*5 if each == 1 else each*7 for each in l] \n",
        "\n",
        "print (x)\n"
      ],
      "execution_count": 0,
      "outputs": [
        {
          "output_type": "stream",
          "text": [
            "[5, 14, 21]\n"
          ],
          "name": "stdout"
        }
      ]
    },
    {
      "cell_type": "code",
      "metadata": {
        "id": "ompAQlQJyW16",
        "colab_type": "code",
        "outputId": "7bd8d094-8408-4e52-ac5d-cb74de205fb5",
        "colab": {
          "base_uri": "https://localhost:8080/",
          "height": 187
        }
      },
      "source": [
        "x = 11\n",
        "\n",
        "for each in range(1,x):\n",
        "    print (\"*\"*x)"
      ],
      "execution_count": 0,
      "outputs": [
        {
          "output_type": "stream",
          "text": [
            "***********\n",
            "***********\n",
            "***********\n",
            "***********\n",
            "***********\n",
            "***********\n",
            "***********\n",
            "***********\n",
            "***********\n",
            "***********\n"
          ],
          "name": "stdout"
        }
      ]
    },
    {
      "cell_type": "code",
      "metadata": {
        "id": "JJMMioutzgSn",
        "colab_type": "code",
        "outputId": "89285202-5544-41ee-e1a3-ff869078ecd7",
        "colab": {
          "base_uri": "https://localhost:8080/",
          "height": 51
        }
      },
      "source": [
        " l1 = [1,2,3]\n",
        " l2 = [3,4,5]\n",
        "\n",
        "l1.extend(l2)\n",
        "\n",
        "print (l1)\n",
        "\n",
        "print (l1+l2)"
      ],
      "execution_count": 0,
      "outputs": [
        {
          "output_type": "stream",
          "text": [
            "[1, 2, 3, 3, 4, 5]\n",
            "[1, 2, 3, 3, 4, 5, 3, 4, 5]\n"
          ],
          "name": "stdout"
        }
      ]
    },
    {
      "cell_type": "code",
      "metadata": {
        "id": "HO5ydhap1Yb6",
        "colab_type": "code",
        "colab": {
          "base_uri": "https://localhost:8080/",
          "height": 34
        },
        "outputId": "ad9d61f1-7d67-4232-ade0-e6dc4de11bd5"
      },
      "source": [
        "print (\"Hello\")"
      ],
      "execution_count": 1,
      "outputs": [
        {
          "output_type": "stream",
          "text": [
            "Hello\n"
          ],
          "name": "stdout"
        }
      ]
    },
    {
      "cell_type": "code",
      "metadata": {
        "id": "nyWK2oHqW-nR",
        "colab_type": "code",
        "colab": {}
      },
      "source": [
        ""
      ],
      "execution_count": 0,
      "outputs": []
    }
  ]
}